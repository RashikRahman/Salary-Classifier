{
 "cells": [
  {
   "cell_type": "markdown",
   "metadata": {},
   "source": [
    "# Predicting Dynamically (Diployable)"
   ]
  },
  {
   "cell_type": "code",
   "execution_count": 1,
   "metadata": {
    "scrolled": true
   },
   "outputs": [
    {
     "data": {
      "text/plain": [
       "['age',\n",
       " 'jobtype',\n",
       " 'maritalstatus',\n",
       " 'race',\n",
       " 'gender',\n",
       " '10th',\n",
       " '11th',\n",
       " '12th',\n",
       " '1st 4th',\n",
       " '5th 6th',\n",
       " '7th 8th',\n",
       " '9th',\n",
       " 'assoc acdm',\n",
       " 'assoc voc',\n",
       " 'bachelors',\n",
       " 'doctorate',\n",
       " 'hs grad',\n",
       " 'masters',\n",
       " 'preschool',\n",
       " 'prof school',\n",
       " 'some college',\n",
       " 'cambodia',\n",
       " 'canada',\n",
       " 'china',\n",
       " 'columbia',\n",
       " 'cuba',\n",
       " 'dominican republic',\n",
       " 'ecuador',\n",
       " 'el salvador',\n",
       " 'england',\n",
       " 'france',\n",
       " 'germany',\n",
       " 'greece',\n",
       " 'guatemala',\n",
       " 'haiti',\n",
       " 'holand netherlands',\n",
       " 'honduras',\n",
       " 'hong',\n",
       " 'hungary',\n",
       " 'india',\n",
       " 'iran',\n",
       " 'ireland',\n",
       " 'italy',\n",
       " 'jamaica',\n",
       " 'japan',\n",
       " 'laos',\n",
       " 'mexico',\n",
       " 'nicaragua',\n",
       " 'outlying us(guam usvi etc)',\n",
       " 'peru',\n",
       " 'philippines',\n",
       " 'poland',\n",
       " 'portugal',\n",
       " 'puerto rico',\n",
       " 'scotland',\n",
       " 'south',\n",
       " 'taiwan',\n",
       " 'thailand',\n",
       " 'trinadad&tobago',\n",
       " 'united states',\n",
       " 'vietnam',\n",
       " 'yugoslavia',\n",
       " 'adm clerical',\n",
       " 'craft repair',\n",
       " 'exec managerial',\n",
       " 'farming fishing',\n",
       " 'handlers cleaners',\n",
       " 'machine op inspct',\n",
       " 'other service',\n",
       " 'priv house serv',\n",
       " 'prof specialty',\n",
       " 'protective serv',\n",
       " 'sales',\n",
       " 'tech support',\n",
       " 'transport moving']"
      ]
     },
     "execution_count": 1,
     "metadata": {},
     "output_type": "execute_result"
    }
   ],
   "source": [
    "import json\n",
    "import pickle\n",
    "with open('columns.json', 'r') as f:\n",
    "        data_columns = json.load(f)['data columns']\n",
    "data_columns\n"
   ]
  },
  {
   "cell_type": "code",
   "execution_count": 2,
   "metadata": {},
   "outputs": [],
   "source": [
    "with open('Subsidy Classifier.pickle', 'rb') as f:\n",
    "    model = pickle.load(f)"
   ]
  },
  {
   "cell_type": "code",
   "execution_count": 42,
   "metadata": {},
   "outputs": [],
   "source": [
    "import numpy as np\n",
    "from sklearn import preprocessing \n",
    "def predict_subsidy(age,Jobtype,EdType,maritalstatus,occupation,race,gender,nativecountry):\n",
    "     # [0] index e ekta list ase so oitar [0] index e column value ta ase. That what we need\n",
    "    Ed = data_columns.index(EdType.lower())\n",
    "    occ = data_columns.index(occupation.lower())\n",
    "    nativ = data_columns.index(nativecountry.lower())\n",
    "    x = np.zeros(len(data_columns))\n",
    "    x[0] = age\n",
    "    x[1] = Jobtype\n",
    "    x[2] = maritalstatus\n",
    "    x[3] = race\n",
    "    x[4] = gender\n",
    "    if Ed >= 0:\n",
    "        x[Ed] = 1\n",
    "    if occ >= 0:\n",
    "        x[occ] = 1\n",
    "    if nativ >= 0:\n",
    "        x[nativ] = 1\n",
    "    x=x.reshape(1, -1)# jehetu just single sample tai (1,-1) diye reshaped. And reshape is needed to turn it to 2D for StandardScaler\n",
    "    X = preprocessing.StandardScaler().fit(x).transform(x.astype(float))\n",
    "\n",
    "    return model.predict(X)[0]"
   ]
  },
  {
   "cell_type": "code",
   "execution_count": 4,
   "metadata": {},
   "outputs": [
    {
     "name": "stdout",
     "output_type": "stream",
     "text": [
      "45\n",
      "private\n",
      "bachelors\n",
      "divorced\n",
      "sales\n",
      "white\n",
      "male\n",
      "united states\n"
     ]
    }
   ],
   "source": [
    "age=int(input())\n",
    "job=input().lower()\n",
    "Edtype=input().lower()\n",
    "maritalstat=input().lower()\n",
    "occupation=input().lower()\n",
    "race=input().lower()\n",
    "gender=input().lower()\n",
    "nativecountry=input().lower()"
   ]
  },
  {
   "cell_type": "code",
   "execution_count": 9,
   "metadata": {},
   "outputs": [],
   "source": [
    "if job =='private':\n",
    "    job=2\n",
    "elif job=='self emp inc':\n",
    "    job=3\n",
    "elif job=='self emp not inc':\n",
    "    job=4\n",
    "elif job=='local gov':\n",
    "    job=1\n",
    "elif job=='state gov':\n",
    "    job=5\n",
    "elif job=='federal gov':\n",
    "    job=0\n",
    "\n",
    "    \n",
    "if maritalstat == 'divorced':\n",
    "    maritalstat=0\n",
    "elif maritalstat=='married civ spouse':\n",
    "    maritalstat=1\n",
    "elif maritalstat=='never married':\n",
    "    maritalstat=3\n",
    "elif maritalstat=='widowed':\n",
    "    maritalstat=5\n",
    "elif maritalstat=='married spouse absent':\n",
    "    maritalstat=2\n",
    "elif maritalstat=='separated':\n",
    "    maritalstat=4\n",
    "    \n",
    "\n",
    "    \n",
    "if race=='white':\n",
    "    race=3\n",
    "elif race=='black':\n",
    "    race=2\n",
    "elif race=='amer indian eskimo':\n",
    "    race=0\n",
    "elif race=='asian pac islander':\n",
    "    race=1\n",
    "    \n",
    "\n",
    "if gender=='female':\n",
    "    gender=0\n",
    "elif gender=='male':\n",
    "    gender=1"
   ]
  },
  {
   "cell_type": "code",
   "execution_count": 43,
   "metadata": {},
   "outputs": [
    {
     "data": {
      "text/plain": [
       "'less than or equal to 50,000'"
      ]
     },
     "execution_count": 43,
     "metadata": {},
     "output_type": "execute_result"
    }
   ],
   "source": [
    "predict_subsidy(age,job,Edtype,maritalstat,occupation,race,gender,nativecountry)"
   ]
  }
 ],
 "metadata": {
  "kernelspec": {
   "display_name": "Python 3.8.0 32-bit",
   "language": "python",
   "name": "python38032bit597afaf4331643018e9f41f479e364be"
  },
  "language_info": {
   "codemirror_mode": {
    "name": "ipython",
    "version": 3
   },
   "file_extension": ".py",
   "mimetype": "text/x-python",
   "name": "python",
   "nbconvert_exporter": "python",
   "pygments_lexer": "ipython3",
   "version": "3.8.0"
  }
 },
 "nbformat": 4,
 "nbformat_minor": 4
}
